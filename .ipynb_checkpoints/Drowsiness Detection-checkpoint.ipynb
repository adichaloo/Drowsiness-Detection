{
 "cells": [
  {
   "cell_type": "code",
   "execution_count": 1,
   "metadata": {},
   "outputs": [
    {
     "name": "stdout",
     "output_type": "stream",
     "text": [
      "pygame 1.9.6\n",
      "Hello from the pygame community. https://www.pygame.org/contribute.html\n"
     ]
    }
   ],
   "source": [
    "import cv2\n",
    "import os\n",
    "import numpy as np\n",
    "import time\n",
    "import dlib\n",
    "import face_recognition\n",
    "from imutils import face_utils\n",
    "from scipy.spatial import distance as dist\n",
    "from threading import Thread\n",
    "import playsound\n",
    "from pygame import mixer"
   ]
  },
  {
   "cell_type": "code",
   "execution_count": 2,
   "metadata": {},
   "outputs": [],
   "source": [
    "detector = dlib.get_frontal_face_detector()\n",
    "#cnn_face=dlib.cnn_face_detection_model_v1(\"weight\")#if gpu enabled\n",
    "predictor=dlib.shape_predictor(\"shape_predictor_68_face_landmarks.dat\")"
   ]
  },
  {
   "cell_type": "code",
   "execution_count": 13,
   "metadata": {},
   "outputs": [],
   "source": [
    "EYE_AR_THRESH = 0.25\n",
    "EYE_AR_CONSEC_FRAMES = 5\n",
    "COUNTER = 0\n",
    "ALARM_ON = False"
   ]
  },
  {
   "cell_type": "code",
   "execution_count": 14,
   "metadata": {},
   "outputs": [],
   "source": [
    "def eye_aspect_ratio(eye):\n",
    "    A=dist.euclidean(eye[1],eye[5])\n",
    "    B=dist.euclidean(eye[2],eye[4])\n",
    "    C=dist.euclidean(eye[0],eye[3])\n",
    "    \n",
    "    ear=(A+B)/(2*C)\n",
    "    return ear\n",
    "                     "
   ]
  },
  {
   "cell_type": "code",
   "execution_count": 15,
   "metadata": {},
   "outputs": [],
   "source": [
    "def sound_alarm(path):\n",
    "    playsound.playsound(path)\n",
    "mixer.init()\n",
    "sound = mixer.Sound('alarm.wav')"
   ]
  },
  {
   "cell_type": "code",
   "execution_count": 16,
   "metadata": {},
   "outputs": [],
   "source": [
    "(lStart, lEnd) = face_utils.FACIAL_LANDMARKS_IDXS[\"left_eye\"]\n",
    "(rStart, rEnd) = face_utils.FACIAL_LANDMARKS_IDXS[\"right_eye\"]"
   ]
  },
  {
   "cell_type": "code",
   "execution_count": null,
   "metadata": {},
   "outputs": [
    {
     "name": "stdout",
     "output_type": "stream",
     "text": [
      "1\n",
      "1\n",
      "2\n",
      "3\n",
      "4\n",
      "5\n",
      "6\n",
      "1\n",
      "2\n",
      "1\n"
     ]
    }
   ],
   "source": [
    "video=cv2.VideoCapture(0)\n",
    "\n",
    "\n",
    "while True:\n",
    "    check,frame=video.read()\n",
    "    gray=cv2.cvtColor(frame,cv2.COLOR_BGR2GRAY)\n",
    "    #cv2.imshow(\"Capturing\",gray)\n",
    "    faces=detector(gray)\n",
    "    #print(faces)\n",
    "    \n",
    "    for face in faces:\n",
    "        x1=face.left()\n",
    "        y1=face.top()\n",
    "        x2=face.right()\n",
    "        y2=face.bottom()\n",
    "        cv2.rectangle(frame,(x1,y1),(x2,y2),(0,255,0),3)\n",
    "        landmark=predictor(gray,face)\n",
    "        shape = face_utils.shape_to_np(landmark)\n",
    "        lefteye=shape[lStart:lEnd]\n",
    "        righteye=shape[rStart:rEnd]\n",
    "        leftEAR = eye_aspect_ratio(lefteye)\n",
    "        rightEAR = eye_aspect_ratio(righteye)\n",
    "        ear=(leftEAR+rightEAR)/2\n",
    "        \n",
    "        if ear<EYE_AR_THRESH:\n",
    "            COUNTER+=1\n",
    "            print(COUNTER)\n",
    "            if COUNTER>=EYE_AR_CONSEC_FRAMES:\n",
    "                cv2.putText(frame, \"DROWSINESS ALERT!\", (10, 30),cv2.FONT_HERSHEY_SIMPLEX, 0.7, (0, 0, 255), 2)\n",
    "                sound.play()\n",
    "                \n",
    "        else:\n",
    "            COUNTER=0\n",
    "            ALARM_ON=False\n",
    "        cv2.putText(frame, \"EAR: {:.2f}\".format(ear), (300, 30),cv2.FONT_HERSHEY_SIMPLEX, 0.7, (0, 0, 255), 2)\n",
    "             \n",
    "        #print(landmark)\n",
    "        for i in range(36,48):\n",
    "            x=landmark.part(i).x\n",
    "            y=landmark.part(i).y\n",
    "            cv2.circle(frame,(x,y),2,(255,0,0),-1)\n",
    "            \n",
    "        \n",
    "    cv2.imshow(\"Detection\",frame)\n",
    "    key=cv2.waitKey(1)\n",
    "    if key==ord('q'):\n",
    "        break\n",
    "\n",
    "video.release()\n",
    "cv2.destroyAllWindows()"
   ]
  },
  {
   "cell_type": "code",
   "execution_count": 5,
   "metadata": {},
   "outputs": [],
   "source": [
    "\n"
   ]
  },
  {
   "cell_type": "code",
   "execution_count": null,
   "metadata": {},
   "outputs": [],
   "source": []
  },
  {
   "cell_type": "code",
   "execution_count": 6,
   "metadata": {},
   "outputs": [],
   "source": []
  },
  {
   "cell_type": "code",
   "execution_count": null,
   "metadata": {},
   "outputs": [],
   "source": [
    "\n",
    "        "
   ]
  }
 ],
 "metadata": {
  "kernelspec": {
   "display_name": "Python 3",
   "language": "python",
   "name": "python3"
  },
  "language_info": {
   "codemirror_mode": {
    "name": "ipython",
    "version": 3
   },
   "file_extension": ".py",
   "mimetype": "text/x-python",
   "name": "python",
   "nbconvert_exporter": "python",
   "pygments_lexer": "ipython3",
   "version": "3.7.4"
  }
 },
 "nbformat": 4,
 "nbformat_minor": 2
}
