{
 "cells": [
  {
   "cell_type": "code",
   "execution_count": 1,
   "metadata": {},
   "outputs": [
    {
     "name": "stdout",
     "output_type": "stream",
     "text": [
      "Looking in links: https://download.pytorch.org/whl/cu101/torch_stable.html\n",
      "Collecting torch==1.4\n",
      "\u001b[?25l  Downloading https://files.pythonhosted.org/packages/1a/3b/fa92ece1e58a6a48ec598bab327f39d69808133e5b2fb33002ca754e381e/torch-1.4.0-cp37-cp37m-manylinux1_x86_64.whl (753.4MB)\n",
      "\u001b[K     |████████████████████████████████| 753.4MB 101kB/s eta 0:00:013     |█████████▍                      | 221.9MB 4.5MB/s eta 0:02:00��█████████████████████  | 708.4MB 4.1MB/s eta 0:00:11\n",
      "\u001b[?25hCollecting torchvision==0.5\n",
      "\u001b[?25l  Downloading https://files.pythonhosted.org/packages/1c/32/cb0e4c43cd717da50258887b088471568990b5a749784c465a8a1962e021/torchvision-0.5.0-cp37-cp37m-manylinux1_x86_64.whl (4.0MB)\n",
      "\u001b[K     |████████████████████████████████| 4.0MB 212kB/s eta 0:00:01\n",
      "\u001b[?25hRequirement already satisfied, skipping upgrade: pillow>=4.1.1 in /home/aditya/anaconda3/lib/python3.7/site-packages (from torchvision==0.5) (6.2.0)\n",
      "Requirement already satisfied, skipping upgrade: six in /home/aditya/anaconda3/lib/python3.7/site-packages (from torchvision==0.5) (1.12.0)\n",
      "Requirement already satisfied, skipping upgrade: numpy in /home/aditya/anaconda3/lib/python3.7/site-packages (from torchvision==0.5) (1.17.3)\n",
      "Installing collected packages: torch, torchvision\n",
      "  Found existing installation: torch 1.3.0\n",
      "    Uninstalling torch-1.3.0:\n",
      "      Successfully uninstalled torch-1.3.0\n",
      "  Found existing installation: torchvision 0.4.1\n",
      "    Uninstalling torchvision-0.4.1:\n",
      "      Successfully uninstalled torchvision-0.4.1\n",
      "Successfully installed torch-1.4.0 torchvision-0.5.0\n",
      "Requirement already satisfied: cython in /home/aditya/anaconda3/lib/python3.7/site-packages (0.29.13)\n",
      "Collecting pyyaml==5.1\n",
      "\u001b[?25l  Downloading https://files.pythonhosted.org/packages/9f/2c/9417b5c774792634834e730932745bc09a7d36754ca00acf1ccd1ac2594d/PyYAML-5.1.tar.gz (274kB)\n",
      "\u001b[K     |████████████████████████████████| 276kB 768kB/s eta 0:00:01\n",
      "\u001b[?25hBuilding wheels for collected packages: pyyaml\n",
      "  Building wheel for pyyaml (setup.py) ... \u001b[?25ldone\n",
      "\u001b[?25h  Created wheel for pyyaml: filename=PyYAML-5.1-cp37-cp37m-linux_x86_64.whl size=44074 sha256=3ece51dd4de7b370c0269c306294605bee0c1951165bfa476909864eff838a67\n",
      "  Stored in directory: /home/aditya/.cache/pip/wheels/ad/56/bc/1522f864feb2a358ea6f1a92b4798d69ac783a28e80567a18b\n",
      "Successfully built pyyaml\n",
      "Installing collected packages: pyyaml\n",
      "  Found existing installation: PyYAML 5.1.2\n",
      "\u001b[31mERROR: Cannot uninstall 'PyYAML'. It is a distutils installed project and thus we cannot accurately determine which files belong to it which would lead to only a partial uninstall.\u001b[0m\n",
      "Collecting git+https://github.com/cocodataset/cocoapi.git#subdirectory=PythonAPI\n",
      "  Cloning https://github.com/cocodataset/cocoapi.git to /tmp/pip-req-build-ceez8pho\n",
      "  Running command git clone -q https://github.com/cocodataset/cocoapi.git /tmp/pip-req-build-ceez8pho\n",
      "Requirement already satisfied, skipping upgrade: setuptools>=18.0 in /home/aditya/anaconda3/lib/python3.7/site-packages (from pycocotools==2.0) (41.4.0)\n",
      "Requirement already satisfied, skipping upgrade: cython>=0.27.3 in /home/aditya/anaconda3/lib/python3.7/site-packages (from pycocotools==2.0) (0.29.13)\n",
      "Requirement already satisfied, skipping upgrade: matplotlib>=2.1.0 in /home/aditya/anaconda3/lib/python3.7/site-packages (from pycocotools==2.0) (3.1.1)\n",
      "Requirement already satisfied, skipping upgrade: cycler>=0.10 in /home/aditya/anaconda3/lib/python3.7/site-packages (from matplotlib>=2.1.0->pycocotools==2.0) (0.10.0)\n",
      "Requirement already satisfied, skipping upgrade: kiwisolver>=1.0.1 in /home/aditya/anaconda3/lib/python3.7/site-packages (from matplotlib>=2.1.0->pycocotools==2.0) (1.1.0)\n",
      "Requirement already satisfied, skipping upgrade: pyparsing!=2.0.4,!=2.1.2,!=2.1.6,>=2.0.1 in /home/aditya/anaconda3/lib/python3.7/site-packages (from matplotlib>=2.1.0->pycocotools==2.0) (2.4.2)\n",
      "Requirement already satisfied, skipping upgrade: python-dateutil>=2.1 in /home/aditya/anaconda3/lib/python3.7/site-packages (from matplotlib>=2.1.0->pycocotools==2.0) (2.8.0)\n",
      "Requirement already satisfied, skipping upgrade: numpy>=1.11 in /home/aditya/anaconda3/lib/python3.7/site-packages (from matplotlib>=2.1.0->pycocotools==2.0) (1.17.3)\n",
      "Requirement already satisfied, skipping upgrade: six in /home/aditya/anaconda3/lib/python3.7/site-packages (from cycler>=0.10->matplotlib>=2.1.0->pycocotools==2.0) (1.12.0)\n",
      "Building wheels for collected packages: pycocotools\n",
      "  Building wheel for pycocotools (setup.py) ... \u001b[?25ldone\n",
      "\u001b[?25h  Created wheel for pycocotools: filename=pycocotools-2.0-cp37-cp37m-linux_x86_64.whl size=279363 sha256=90fef66aea8734b44de3bb22c764a9ef85affdbe05c04f8b2a176e380a5aafd5\n",
      "  Stored in directory: /tmp/pip-ephem-wheel-cache-m6ss56_5/wheels/90/51/41/646daf401c3bc408ff10de34ec76587a9b3ebfac8d21ca5c3a\n",
      "Successfully built pycocotools\n",
      "Installing collected packages: pycocotools\n",
      "  Found existing installation: pycocotools 2.0.0\n",
      "    Uninstalling pycocotools-2.0.0:\n",
      "      Successfully uninstalled pycocotools-2.0.0\n",
      "Successfully installed pycocotools-2.0\n",
      "1.4.0 True\n",
      "gcc (Ubuntu 7.5.0-3ubuntu1~18.04) 7.5.0\n",
      "Copyright (C) 2017 Free Software Foundation, Inc.\n",
      "This is free software; see the source for copying conditions.  There is NO\n",
      "warranty; not even for MERCHANTABILITY or FITNESS FOR A PARTICULAR PURPOSE.\n",
      "\n"
     ]
    }
   ],
   "source": [
    "# install dependencies: (use cu101 because colab has CUDA 10.1)\n",
    "!pip install -U torch==1.4 torchvision==0.5 -f https://download.pytorch.org/whl/cu101/torch_stable.html \n",
    "!pip install cython pyyaml==5.1\n",
    "!pip install -U 'git+https://github.com/cocodataset/cocoapi.git#subdirectory=PythonAPI'\n",
    "import torch, torchvision\n",
    "print(torch.__version__, torch.cuda.is_available())\n",
    "!gcc --version\n",
    "# opencv is pre-installed on colab"
   ]
  },
  {
   "cell_type": "code",
   "execution_count": 2,
   "metadata": {},
   "outputs": [
    {
     "name": "stdout",
     "output_type": "stream",
     "text": [
      "Looking in links: https://dl.fbaipublicfiles.com/detectron2/wheels/cu101/index.html\n",
      "Collecting detectron2\n",
      "\u001b[?25l  Downloading https://dl.fbaipublicfiles.com/detectron2/wheels/cu101/detectron2-0.1.1%2Bcu101-cp37-cp37m-linux_x86_64.whl (6.1MB)\n",
      "\u001b[K     |████████████████████████████████| 6.2MB 2.0MB/s eta 0:00:01\n",
      "\u001b[?25hCollecting fvcore (from detectron2)\n",
      "  Downloading https://files.pythonhosted.org/packages/be/09/7565b3c7782d916907d881fda1ba52a074ef9c8cf921cc437fa2c076bb3b/fvcore-0.1.dev200424.tar.gz\n",
      "Requirement already satisfied: Pillow in /home/aditya/anaconda3/lib/python3.7/site-packages (from detectron2) (6.2.0)\n",
      "Collecting yacs>=0.1.6 (from detectron2)\n",
      "  Downloading https://files.pythonhosted.org/packages/81/3b/40e876afde9f5ffa1cfdce10565aba85b0dc2e067ed551dfb566cfee6d4d/yacs-0.1.7-py3-none-any.whl\n",
      "Requirement already satisfied: cloudpickle in /home/aditya/anaconda3/lib/python3.7/site-packages (from detectron2) (1.2.2)\n",
      "Requirement already satisfied: tensorboard in /home/aditya/anaconda3/lib/python3.7/site-packages (from detectron2) (1.14.0)\n",
      "Requirement already satisfied: tqdm>4.29.0 in /home/aditya/anaconda3/lib/python3.7/site-packages (from detectron2) (4.36.1)\n",
      "Collecting tabulate (from detectron2)\n",
      "  Downloading https://files.pythonhosted.org/packages/c4/f4/770ae9385990f5a19a91431163d262182d3203662ea2b5739d0fcfc080f1/tabulate-0.8.7-py3-none-any.whl\n",
      "Collecting pydot (from detectron2)\n",
      "  Downloading https://files.pythonhosted.org/packages/33/d1/b1479a770f66d962f545c2101630ce1d5592d90cb4f083d38862e93d16d2/pydot-1.4.1-py2.py3-none-any.whl\n",
      "Requirement already satisfied: termcolor>=1.1 in /home/aditya/anaconda3/lib/python3.7/site-packages (from detectron2) (1.1.0)\n",
      "Requirement already satisfied: matplotlib in /home/aditya/anaconda3/lib/python3.7/site-packages (from detectron2) (3.1.1)\n",
      "Requirement already satisfied: future in /home/aditya/anaconda3/lib/python3.7/site-packages (from detectron2) (0.18.2)\n",
      "Requirement already satisfied: numpy in /home/aditya/anaconda3/lib/python3.7/site-packages (from fvcore->detectron2) (1.17.3)\n",
      "Requirement already satisfied: pyyaml>=5.1 in /home/aditya/anaconda3/lib/python3.7/site-packages (from fvcore->detectron2) (5.1.2)\n",
      "Collecting portalocker (from fvcore->detectron2)\n",
      "  Downloading https://files.pythonhosted.org/packages/53/84/7b3146ec6378d28abc73ab484f09f47dfa008ad6f03f33d90a369f880e25/portalocker-1.7.0-py2.py3-none-any.whl\n",
      "Requirement already satisfied: grpcio>=1.6.3 in /home/aditya/anaconda3/lib/python3.7/site-packages (from tensorboard->detectron2) (1.24.1)\n",
      "Requirement already satisfied: markdown>=2.6.8 in /home/aditya/anaconda3/lib/python3.7/site-packages (from tensorboard->detectron2) (3.1.1)\n",
      "Requirement already satisfied: werkzeug>=0.11.15 in /home/aditya/anaconda3/lib/python3.7/site-packages (from tensorboard->detectron2) (0.16.0)\n",
      "Requirement already satisfied: setuptools>=41.0.0 in /home/aditya/anaconda3/lib/python3.7/site-packages (from tensorboard->detectron2) (41.4.0)\n",
      "Requirement already satisfied: protobuf>=3.6.0 in /home/aditya/anaconda3/lib/python3.7/site-packages (from tensorboard->detectron2) (3.10.0)\n",
      "Requirement already satisfied: wheel>=0.26; python_version >= \"3\" in /home/aditya/anaconda3/lib/python3.7/site-packages (from tensorboard->detectron2) (0.33.6)\n",
      "Requirement already satisfied: absl-py>=0.4 in /home/aditya/anaconda3/lib/python3.7/site-packages (from tensorboard->detectron2) (0.8.1)\n",
      "Requirement already satisfied: six>=1.10.0 in /home/aditya/anaconda3/lib/python3.7/site-packages (from tensorboard->detectron2) (1.12.0)\n",
      "Requirement already satisfied: pyparsing>=2.1.4 in /home/aditya/anaconda3/lib/python3.7/site-packages (from pydot->detectron2) (2.4.2)\n",
      "Requirement already satisfied: cycler>=0.10 in /home/aditya/anaconda3/lib/python3.7/site-packages (from matplotlib->detectron2) (0.10.0)\n",
      "Requirement already satisfied: kiwisolver>=1.0.1 in /home/aditya/anaconda3/lib/python3.7/site-packages (from matplotlib->detectron2) (1.1.0)\n",
      "Requirement already satisfied: python-dateutil>=2.1 in /home/aditya/anaconda3/lib/python3.7/site-packages (from matplotlib->detectron2) (2.8.0)\n",
      "Building wheels for collected packages: fvcore\n",
      "  Building wheel for fvcore (setup.py) ... \u001b[?25ldone\n",
      "\u001b[?25h  Created wheel for fvcore: filename=fvcore-0.1.dev200424-cp37-none-any.whl size=40522 sha256=0ffe03815b00f54e6d4eab3347c4960761ef8b7e8cd482f7758c519a8486de0d\n",
      "  Stored in directory: /home/aditya/.cache/pip/wheels/68/20/6d/36730421a68849a49c4c7470411f9192b7fa5ec9093cf1c7b8\n",
      "Successfully built fvcore\n",
      "Installing collected packages: yacs, portalocker, tabulate, fvcore, pydot, detectron2\n",
      "Successfully installed detectron2-0.1.1+cu101 fvcore-0.1.dev200424 portalocker-1.7.0 pydot-1.4.1 tabulate-0.8.7 yacs-0.1.7\n"
     ]
    }
   ],
   "source": [
    "!pip install detectron2 -f https://dl.fbaipublicfiles.com/detectron2/wheels/cu101/index.html"
   ]
  },
  {
   "cell_type": "code",
   "execution_count": 3,
   "metadata": {},
   "outputs": [],
   "source": [
    "import detectron2\n",
    "from detectron2.utils.logger import setup_logger\n",
    "setup_logger()\n",
    "\n",
    "# import some common libraries\n",
    "import numpy as np\n",
    "import cv2\n",
    "import random\n",
    "\n",
    "\n",
    "# import some common detectron2 utilities\n",
    "from detectron2 import model_zoo\n",
    "from detectron2.engine import DefaultPredictor\n",
    "from detectron2.config import get_cfg\n",
    "from detectron2.utils.visualizer import Visualizer\n",
    "from detectron2.data import MetadataCatalog"
   ]
  },
  {
   "cell_type": "code",
   "execution_count": 4,
   "metadata": {},
   "outputs": [
    {
     "name": "stderr",
     "output_type": "stream",
     "text": [
      "model_final_cafdb1.pkl: 261MB [01:01, 4.23MB/s]                               \n"
     ]
    }
   ],
   "source": [
    "cfg = get_cfg()\n",
    "# add project-specific config (e.g., TensorMask) here if you're not running a model in detectron2's core library\n",
    "#cfg.MODEL.ROI_HEADS.SCORE_THRESH_TEST = 0.5  # set threshold for this model\n",
    "cfg.merge_from_file(model_zoo.get_config_file(\"COCO-PanopticSegmentation/panoptic_fpn_R_101_3x.yaml\"))\n",
    "cfg.MODEL.WEIGHTS = model_zoo.get_checkpoint_url(\"COCO-PanopticSegmentation/panoptic_fpn_R_101_3x.yaml\")\n",
    "predictor = DefaultPredictor(cfg)\n",
    "# outputs = predictor(im)"
   ]
  },
  {
   "cell_type": "code",
   "execution_count": 5,
   "metadata": {},
   "outputs": [
    {
     "ename": "NameError",
     "evalue": "name 'cv2_imshow' is not defined",
     "output_type": "error",
     "traceback": [
      "\u001b[0;31m---------------------------------------------------------------------------\u001b[0m",
      "\u001b[0;31mNameError\u001b[0m                                 Traceback (most recent call last)",
      "\u001b[0;32m<ipython-input-5-3e9c2486c79c>\u001b[0m in \u001b[0;36m<module>\u001b[0;34m\u001b[0m\n\u001b[1;32m      5\u001b[0m     \u001b[0mv\u001b[0m \u001b[0;34m=\u001b[0m \u001b[0mVisualizer\u001b[0m\u001b[0;34m(\u001b[0m\u001b[0mframe\u001b[0m\u001b[0;34m[\u001b[0m\u001b[0;34m:\u001b[0m\u001b[0;34m,\u001b[0m \u001b[0;34m:\u001b[0m\u001b[0;34m,\u001b[0m \u001b[0;34m:\u001b[0m\u001b[0;34m:\u001b[0m\u001b[0;34m-\u001b[0m\u001b[0;36m1\u001b[0m\u001b[0;34m]\u001b[0m\u001b[0;34m,\u001b[0m \u001b[0mMetadataCatalog\u001b[0m\u001b[0;34m.\u001b[0m\u001b[0mget\u001b[0m\u001b[0;34m(\u001b[0m\u001b[0mcfg\u001b[0m\u001b[0;34m.\u001b[0m\u001b[0mDATASETS\u001b[0m\u001b[0;34m.\u001b[0m\u001b[0mTRAIN\u001b[0m\u001b[0;34m[\u001b[0m\u001b[0;36m0\u001b[0m\u001b[0;34m]\u001b[0m\u001b[0;34m)\u001b[0m\u001b[0;34m,\u001b[0m \u001b[0mscale\u001b[0m\u001b[0;34m=\u001b[0m\u001b[0;36m1.2\u001b[0m\u001b[0;34m)\u001b[0m\u001b[0;34m\u001b[0m\u001b[0;34m\u001b[0m\u001b[0m\n\u001b[1;32m      6\u001b[0m     \u001b[0mv\u001b[0m \u001b[0;34m=\u001b[0m \u001b[0mv\u001b[0m\u001b[0;34m.\u001b[0m\u001b[0mdraw_panoptic_seg_predictions\u001b[0m\u001b[0;34m(\u001b[0m\u001b[0mpanoptic_seg\u001b[0m\u001b[0;34m.\u001b[0m\u001b[0mto\u001b[0m\u001b[0;34m(\u001b[0m\u001b[0;34m\"cpu\"\u001b[0m\u001b[0;34m)\u001b[0m\u001b[0;34m,\u001b[0m \u001b[0msegments_info\u001b[0m\u001b[0;34m)\u001b[0m\u001b[0;34m\u001b[0m\u001b[0;34m\u001b[0m\u001b[0m\n\u001b[0;32m----> 7\u001b[0;31m     \u001b[0mcv2_imshow\u001b[0m\u001b[0;34m(\u001b[0m\u001b[0mv\u001b[0m\u001b[0;34m.\u001b[0m\u001b[0mget_image\u001b[0m\u001b[0;34m(\u001b[0m\u001b[0;34m)\u001b[0m\u001b[0;34m[\u001b[0m\u001b[0;34m:\u001b[0m\u001b[0;34m,\u001b[0m \u001b[0;34m:\u001b[0m\u001b[0;34m,\u001b[0m \u001b[0;34m:\u001b[0m\u001b[0;34m:\u001b[0m\u001b[0;34m-\u001b[0m\u001b[0;36m1\u001b[0m\u001b[0;34m]\u001b[0m\u001b[0;34m)\u001b[0m\u001b[0;34m\u001b[0m\u001b[0;34m\u001b[0m\u001b[0m\n\u001b[0m\u001b[1;32m      8\u001b[0m     \u001b[0mkey\u001b[0m\u001b[0;34m=\u001b[0m\u001b[0mcv2\u001b[0m\u001b[0;34m.\u001b[0m\u001b[0mwaitKey\u001b[0m\u001b[0;34m(\u001b[0m\u001b[0;36m1\u001b[0m\u001b[0;34m)\u001b[0m\u001b[0;34m\u001b[0m\u001b[0;34m\u001b[0m\u001b[0m\n\u001b[1;32m      9\u001b[0m     \u001b[0;32mif\u001b[0m \u001b[0mkey\u001b[0m\u001b[0;34m==\u001b[0m\u001b[0mord\u001b[0m\u001b[0;34m(\u001b[0m\u001b[0;34m'q'\u001b[0m\u001b[0;34m)\u001b[0m\u001b[0;34m:\u001b[0m\u001b[0;34m\u001b[0m\u001b[0;34m\u001b[0m\u001b[0m\n",
      "\u001b[0;31mNameError\u001b[0m: name 'cv2_imshow' is not defined"
     ]
    }
   ],
   "source": [
    "vid=cv2.VideoCapture(0)\n",
    "while True:\n",
    "    check,frame=vid.read()\n",
    "    panoptic_seg, segments_info = predictor(frame)[\"panoptic_seg\"]\n",
    "    v = Visualizer(frame[:, :, ::-1], MetadataCatalog.get(cfg.DATASETS.TRAIN[0]), scale=1.2)\n",
    "    v = v.draw_panoptic_seg_predictions(panoptic_seg.to(\"cpu\"), segments_info)\n",
    "    cv2_imshow(v.get_image()[:, :, ::-1])\n",
    "    key=cv2.waitKey(1)\n",
    "    if key==ord('q'):\n",
    "        break\n",
    "vid.release()\n",
    "cv2.destroyAllWindows()"
   ]
  },
  {
   "cell_type": "code",
   "execution_count": null,
   "metadata": {},
   "outputs": [],
   "source": []
  }
 ],
 "metadata": {
  "kernelspec": {
   "display_name": "Python 3",
   "language": "python",
   "name": "python3"
  },
  "language_info": {
   "codemirror_mode": {
    "name": "ipython",
    "version": 3
   },
   "file_extension": ".py",
   "mimetype": "text/x-python",
   "name": "python",
   "nbconvert_exporter": "python",
   "pygments_lexer": "ipython3",
   "version": "3.7.4"
  }
 },
 "nbformat": 4,
 "nbformat_minor": 2
}
